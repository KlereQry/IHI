{
 "metadata": {
  "name": "1_correlation"
 }, 
 "nbformat": 2, 
 "worksheets": [
  {
   "cells": [
    {
     "cell_type": "markdown", 
     "source": [
      "<h2>IHI Analysis</h2>", 
      "<h3>Using iPython Notebook :)</h3>"
     ]
    }, 
    {
     "cell_type": "code", 
     "collapsed": false, 
     "input": [
      "import os", 
      "import pandas as pd", 
      "import numpy as np", 
      "import scipy.stats as sp", 
      "import csv", 
      "import statsmodels.api as sm", 
      "import matplotlib.pyplot as plt"
     ], 
     "language": "python", 
     "outputs": [], 
     "prompt_number": 58
    }, 
    {
     "cell_type": "code", 
     "collapsed": true, 
     "input": [
      "all_p = pd.io.parsers.read_csv('/lena16/dartagnan2/samper/data/DB_IMAGEN_all.csv', sep='\\t', quotechar='\"')", 
      "#print(sum(all_p['nb segL >= 3']))"
     ], 
     "language": "python", 
     "outputs": [], 
     "prompt_number": 25
    }, 
    {
     "cell_type": "code", 
     "collapsed": false, 
     "input": [
      "all_qc = pd.io.parsers.read_csv('/lena16/dartagnan2/samper/data/Data_Sillons_IMAGEN/QCS/qcs_all.csv', sep='\\t', quotechar='\"')", 
      "", 
      "ids_gt3 = all_qc[all_qc.LeftHemiMesh>=3]['Subject']", 
      "", 
      "print(\"Number of subjects with an IHI score and QC: \\n\" + str(sum(all_p.Subject.isin(all_qc.Subject))))", 
      "", 
      "print(\"Number of subjects with an IHI score and a QC score >= 3: \\n\" + str(sum(all_p.Subject.isin(ids_gt3))))"
     ], 
     "language": "python", 
     "outputs": [
      {
       "output_type": "stream", 
       "stream": "stdout", 
       "text": [
        "Number of subjects with an IHI score and QC: ", 
        "1832", 
        "Number of subjects with an IHI score and a QC score >= 3: ", 
        "1788"
       ]
      }
     ], 
     "prompt_number": 26
    }, 
    {
     "cell_type": "code", 
     "collapsed": true, 
     "input": [
      "# Subjects with an IHI score and a QC score >= 3", 
      "sel_p = all_p[all_p.Subject.isin(ids_gt3)]", 
      "", 
      "# 3 groups according to global criteria C0", 
      "gIHI = sel_p[sel_p.C0_L == 'Y']", 
      "gPartIHI = sel_p[sel_p.C0_L == '?']", 
      "gNoIHI = sel_p[sel_p.C0_L == 'N']", 
      "", 
      "# QC Mean for IHI and non IHI", 
      "IHI = all_p[all_p.SCi_L >= 4]", 
      "nIHI = all_p[all_p.SCi_L < 4]"
     ], 
     "language": "python", 
     "outputs": [], 
     "prompt_number": 27
    }, 
    {
     "cell_type": "code", 
     "collapsed": false, 
     "input": [
      "IHI_qc = all_qc[all_qc.Subject.isin(IHI.Subject)]", 
      "nIHI_qc = all_qc[all_qc.Subject.isin(nIHI.Subject)]", 
      "", 
      "print('Mean QC IHI:'+str(np.mean(IHI_qc.LeftHemiMesh)))", 
      "print('Mean QC no IHI:'+str(np.mean(nIHI_qc.LeftHemiMesh)))"
     ], 
     "language": "python", 
     "outputs": [
      {
       "output_type": "stream", 
       "stream": "stdout", 
       "text": [
        "Mean QC IHI:4.54187192118", 
        "Mean QC no IHI:4.49298737728"
       ]
      }
     ], 
     "prompt_number": 28
    }, 
    {
     "cell_type": "code", 
     "collapsed": false, 
     "input": [
      "# Selecting IHI and non IHI with QC >= 3", 
      "IHI = sel_p[sel_p.SCi_L >= 4]", 
      "nIHI = sel_p[sel_p.SCi_L < 4]", 
      "", 
      "print('Number of IHI:'+str(len(IHI.index)))", 
      "print('Number of non IHI:'+str(len(nIHI.index)))"
     ], 
     "language": "python", 
     "outputs": [
      {
       "output_type": "stream", 
       "stream": "stdout", 
       "text": [
        "Number of IHI:401", 
        "Number of non IHI:1387"
       ]
      }
     ], 
     "prompt_number": 29
    }, 
    {
     "cell_type": "code", 
     "collapsed": true, 
     "input": [
      "# Verification", 
      "#print \"\\n\"", 
      "#print min(IHI.SCi_L)", 
      "#print max(IHI.SCi_L)", 
      "#", 
      "#print min(nIHI.SCi_L)", 
      "#\"print max(nIHI.SCi_L)", 
      "#", 
      "#\"groups_v = []", 
      "#for row in all_qc.iterrows():", 
      "#    if sum(IHI.Subject == row[1].Subject) > 0:", 
      "#        groups_v.append(1)", 
      "#    elif sum(nIHI.Subject == row[1].Subject) > 0:", 
      "#        groups_v.append(0)", 
      "#    else:", 
      "#        groups_v.append(-1)", 
      "#        ", 
      "#print(len(groups_v))", 
      "#", 
      "#print(groups_v.count(1))", 
      "#print(groups_v.count(0))", 
      "#print(groups_v.count(-1))"
     ], 
     "language": "python", 
     "outputs": [], 
     "prompt_number": 30
    }, 
    {
     "cell_type": "code", 
     "collapsed": false, 
     "input": [
      "IHI_qc = all_qc[all_qc.Subject.isin(IHI.Subject)]", 
      "nIHI_qc = all_qc[all_qc.Subject.isin(nIHI.Subject)]", 
      "", 
      "sel_p.loc[:,'C0_L'] = sel_p.C0_L.map({'Y':'1','N':'0','?':'-1'})", 
      "sel_p.loc[:,'IHI_L'] = (sel_p.SCi_L >= 4) + 0", 
      "", 
      "#Replacing Null values by most common value 'Right'", 
      "print sum(sel_p.Handedness == 'Undefined')", 
      "sel_p.loc[:,'Handedness'].replace('Undefined', 'Right', inplace=True)", 
      "", 
      "print sum(sel_p.Handedness.isnull())", 
      "sel_p.loc[:,'Handedness'].fillna('Right', inplace=True)", 
      "", 
      "sel_p.to_csv('/lena16/dartagnan2/samper/data/selected.csv', columns = [\"Subject\", \"SCi_L\", \"C0_L\"], index = False, sep = ';') "
     ], 
     "language": "python", 
     "outputs": [
      {
       "output_type": "stream", 
       "stream": "stdout", 
       "text": [
        "12", 
        "18"
       ]
      }
     ], 
     "prompt_number": 31
    }, 
    {
     "cell_type": "code", 
     "collapsed": true, 
     "input": [
      "sulci = []", 
      "dir_name = '/lena16/dartagnan2/samper/data/Data_Sillons_IMAGEN/Imagen_mainSulcalMorphometry/' ", 
      "for f in os.listdir(dir_name):", 
      "    if f.endswith(\".csv\"):", 
      "        sulci.append((f, os.path.join(dir_name, f)))", 
      "        #print f", 
      "#print sulci", 
      "measures = [\"surface\",\"depthMax\",\"depthMean\",\"length\",\"GM_thickness\",\"opening\"]"
     ], 
     "language": "python", 
     "outputs": [], 
     "prompt_number": 32
    }, 
    {
     "cell_type": "code", 
     "collapsed": false, 
     "input": [
      "all_results = {}", 
      "for (s, f) in sulci:", 
      "    sillon = pd.io.parsers.read_csv(f, sep=';', quotechar='\"')", 
      "    ", 
      "    sulcus = s.split('_')[1]", 
      "    side = s.split('_')[2].split('.')[0]", 
      "    sulcus_side = sulcus + '_' + side", 
      "    ", 
      "    sulcus_results = {}", 
      "    ", 
      "### Correlation lineaire entre IHI score et sillons", 
      "    sel_sillon = sillon[sillon.subject.isin(sel_p.Subject)]", 
      "    temp_results = {}", 
      "    for m in measures:", 
      "        r = sp.pearsonr(sel_p.SCi_L.values, sel_sillon[m].values)", 
      "        temp_results[m] = {'coefficient' : r[0], 'pvalue' : r[1]}", 
      "    sulcus_results['pearson'] = temp_results", 
      "    ", 
      "    temp_results = {}", 
      "    for m in measures:", 
      "        r = sp.spearmanr(sel_p.SCi_L.values, sel_sillon[m].values)", 
      "        temp_results[m] = {'coefficient' : r[0], 'pvalue' : r[1]}", 
      "    sulcus_results['spearman'] = temp_results", 
      "        ", 
      "### T-test on binary partition", 
      "    sel_IHI = sillon[sillon.subject.isin(IHI.Subject)]", 
      "    sel_nIHI = sillon[sillon.subject.isin(nIHI.Subject)]", 
      "    temp_results = {}", 
      "    for m in measures:", 
      "        r = sp.ttest_ind(sel_IHI[m].values, sel_nIHI[m].values)", 
      "        temp_results[m] = {'t' : r[0], 'pvalue' : r[1], 'meanIHI' : np.mean(sel_IHI[m]), 'meanNoIHI' : np.mean(sel_nIHI[m]) }", 
      "    sulcus_results['ttest'] = temp_results", 
      "    ", 
      "### ANOVA 3 groups C0", 
      "    sel_gIHI = sillon[sillon.subject.isin(gIHI.Subject)]", 
      "    sel_gPartIHI = sillon[sillon.subject.isin(gPartIHI.Subject)]", 
      "    sel_gNoIHI = sillon[sillon.subject.isin(gNoIHI.Subject)]", 
      "    temp_results = {}", 
      "    for m in measures:", 
      "        r = sp.f_oneway(sel_gIHI[m].values, sel_gPartIHI[m].values, sel_gNoIHI[m].values)", 
      "        temp_results[m] = {'f' : r[0], 'pvalue' : r[1]}", 
      "    sulcus_results['anova'] = temp_results", 
      "    ", 
      "    all_results[sulcus_side] = sulcus_results", 
      "    ", 
      "#print all_results"
     ], 
     "language": "python", 
     "outputs": [], 
     "prompt_number": 59
    }, 
    {
     "cell_type": "markdown", 
     "source": [
      "<h3>Correlation analysis (semi-continuous score)</h3>"
     ]
    }, 
    {
     "cell_type": "markdown", 
     "source": [
      "<h4>Pearson</h4>"
     ]
    }, 
    {
     "cell_type": "code", 
     "collapsed": false, 
     "input": [
      "print(\"\\nSillon collateral\")", 
      "for s in measures:", 
      "    print(s +\": \"+ str(all_results['F.Coll._left']['pearson'][s]))"
     ], 
     "language": "python", 
     "outputs": [
      {
       "output_type": "stream", 
       "stream": "stdout", 
       "text": [
        "", 
        "Sillon collateral", 
        "surface: {'coefficient': -0.044089941892559034, 'pvalue': 0.062330869891018333}", 
        "depthMax: {'coefficient': 0.17008747529465307, 'pvalue': 4.4904925178827064e-13}", 
        "depthMean: {'coefficient': 0.07680076289313989, 'pvalue': 0.0011539248412072202}", 
        "length: {'coefficient': -0.0010852371261638721, 'pvalue': 0.96342430565936465}", 
        "GM_thickness: {'coefficient': -0.0094844197542675313, 'pvalue': 0.68858589063148345}", 
        "opening: {'coefficient': 0.14753635816201921, 'pvalue': 3.6452525402161639e-10}"
       ]
      }
     ], 
     "prompt_number": 73
    }, 
    {
     "cell_type": "code", 
     "collapsed": false, 
     "input": [
      "print(\"\\nSillon rhinal\")", 
      "for s in measures:", 
      "    print(s +\": \"+ str(all_results['S.Rh._left']['pearson'][s]))"
     ], 
     "language": "python", 
     "outputs": [
      {
       "output_type": "stream", 
       "stream": "stdout", 
       "text": [
        "", 
        "Sillon rhinal", 
        "surface: {'coefficient': 0.013214857179571124, 'pvalue': 0.57655726066412427}", 
        "depthMax: {'coefficient': 0.053834126111705842, 'pvalue': 0.022820800778335443}", 
        "depthMean: {'coefficient': 0.019301307263136339, 'pvalue': 0.41469682376036021}", 
        "length: {'coefficient': -0.0126947926634458, 'pvalue': 0.59165287662711008}", 
        "GM_thickness: {'coefficient': -0.0080336684716983547, 'pvalue': 0.73425601777757765}", 
        "opening: {'coefficient': 0.016501377798786493, 'pvalue': 0.48560497482299347}"
       ]
      }
     ], 
     "prompt_number": 35
    }, 
    {
     "cell_type": "markdown", 
     "source": [
      "<h4>Spearman</h4>"
     ]
    }, 
    {
     "cell_type": "code", 
     "collapsed": false, 
     "input": [
      "print(\"\\nSillon collateral\")", 
      "for s in measures:", 
      "    print(s +\": \"+ str(all_results['F.Coll._left']['spearman'][s]))"
     ], 
     "language": "python", 
     "outputs": [
      {
       "output_type": "stream", 
       "stream": "stdout", 
       "text": [
        "", 
        "Sillon collateral", 
        "surface: {'coefficient': -0.043082815394482402, 'pvalue': 0.068558580138979572}", 
        "depthMax: {'coefficient': 0.10785173092703074, 'pvalue': 4.862567241207307e-06}", 
        "depthMean: {'coefficient': 0.021327923084692123, 'pvalue': 0.36741942378957981}", 
        "length: {'coefficient': -0.0039429601841972778, 'pvalue': 0.86767603395805704}", 
        "GM_thickness: {'coefficient': -0.030606903215327989, 'pvalue': 0.19580251748878569}", 
        "opening: {'coefficient': 0.14226672866343362, 'pvalue': 1.5196707315254533e-09}"
       ]
      }
     ], 
     "prompt_number": 74
    }, 
    {
     "cell_type": "code", 
     "collapsed": false, 
     "input": [
      "print(\"\\nSillon rhinal\")", 
      "for s in measures:", 
      "    print(s +\": \"+ str(all_results['S.Rh._left']['spearman'][s]))"
     ], 
     "language": "python", 
     "outputs": [
      {
       "output_type": "stream", 
       "stream": "stdout", 
       "text": [
        "", 
        "Sillon rhinal", 
        "surface: {'coefficient': -0.0014395629858526527, 'pvalue': 0.95149537708703091}", 
        "depthMax: {'coefficient': 0.033059860798136449, 'pvalue': 0.16231368262584878}", 
        "depthMean: {'coefficient': -0.0045618574390724953, 'pvalue': 0.84714450248185535}", 
        "length: {'coefficient': -0.011089493129354519, 'pvalue': 0.6393534937230807}", 
        "GM_thickness: {'coefficient': -0.013003497157748222, 'pvalue': 0.58267037936936017}", 
        "opening: {'coefficient': 0.02335609923718741, 'pvalue': 0.32361775020700967}"
       ]
      }
     ], 
     "prompt_number": 61
    }, 
    {
     "cell_type": "markdown", 
     "source": [
      "<h3>T-test (binary criterion)</h3>"
     ]
    }, 
    {
     "cell_type": "code", 
     "collapsed": false, 
     "input": [
      "print(\"\\nSillon collateral\")", 
      "for s in measures:", 
      "    print(s +\": \"+ str(all_results['F.Coll._left']['ttest'][s]))"
     ], 
     "language": "python", 
     "outputs": [
      {
       "output_type": "stream", 
       "stream": "stdout", 
       "text": [
        "", 
        "Sillon collateral", 
        "surface: {'meanNoIHI': 2270.2389105984139, 't': -2.89377048716063, 'meanIHI': 2171.0848728179549, 'pvalue': 0.0038526301478003246}", 
        "depthMax: {'meanNoIHI': 21.45710165825523, 't': 7.5070374522167009, 'meanIHI': 26.778004987531173, 'pvalue': 9.4931646548177978e-14}", 
        "depthMean: {'meanNoIHI': 13.01799363374189, 't': 3.7699136858331608, 'meanIHI': 13.667743341645886, 'pvalue': 0.00016861417786054409}", 
        "length: {'meanNoIHI': 111.83264318673396, 't': -1.0932921302023149, 'meanIHI': 110.2980199501247, 'pvalue': 0.2744129949304453}", 
        "GM_thickness: {'meanNoIHI': 4.55722183850036, 't': 0.024014512844865516, 'meanIHI': 4.5576055112219453, 'pvalue': 0.98084371513873914}", 
        "opening: {'meanNoIHI': 1.5405154434030282, 't': 5.0451770671425056, 'meanIHI': 1.6427219700748132, 'pvalue': 4.9915878227633953e-07}"
       ]
      }
     ], 
     "prompt_number": 75
    }, 
    {
     "cell_type": "code", 
     "collapsed": false, 
     "input": [
      "print(\"\\nSillon rhinal\")", 
      "for s in measures:", 
      "    print(s +\": \"+ str(all_results['S.Rh._left']['ttest'][s]))"
     ], 
     "language": "python", 
     "outputs": [
      {
       "output_type": "stream", 
       "stream": "stdout", 
       "text": [
        "", 
        "Sillon rhinal", 
        "surface: {'meanNoIHI': 768.97223734679153, 't': 0.70984178785442442, 'meanIHI': 784.65258952618456, 'pvalue': 0.4778949161350986}", 
        "depthMax: {'meanNoIHI': 15.739682768565247, 't': 2.1125983628737042, 'meanIHI': 16.241795511221945, 'pvalue': 0.034773610399342895}", 
        "depthMean: {'meanNoIHI': 10.085255811103101, 't': 1.3906540279858812, 'meanIHI': 10.285373715710724, 'pvalue': 0.16450360972313605}", 
        "length: {'meanNoIHI': 48.008118889689975, 't': 0.09673303722483155, 'meanIHI': 48.114066832917707, 'pvalue': 0.92294925608961986}", 
        "GM_thickness: {'meanNoIHI': 5.3230467844268201, 't': 0.12345703494997841, 'meanIHI': 5.3286199750623435, 'pvalue': 0.90175908641211078}", 
        "opening: {'meanNoIHI': 3.5543860533525593, 't': 2.3342510512502237, 'meanIHI': 3.8050441743142147, 'pvalue': 0.019692945249378525}"
       ]
      }
     ], 
     "prompt_number": 37
    }, 
    {
     "cell_type": "markdown", 
     "source": [
      "<h3>ANOVA (C0)</h3>"
     ]
    }, 
    {
     "cell_type": "code", 
     "collapsed": false, 
     "input": [
      "print(\"\\nSillon collateral\")", 
      "for s in measures:", 
      "    print(s +\": \"+ str(all_results['S.C._left']['anova'][s]))"
     ], 
     "language": "python", 
     "outputs": [
      {
       "output_type": "stream", 
       "stream": "stdout", 
       "text": [
        "", 
        "Sillon collateral", 
        "surface: {'pvalue': 0.39033065276303525, 'f': 0.94125706162353318}", 
        "depthMax: {'pvalue': 0.02357357330378369, 'f': 3.7555081862092123}", 
        "depthMean: {'pvalue': 0.15241966739360438, 'f': 1.8831013972919941}", 
        "length: {'pvalue': 0.074229976245685225, 'f': 2.6043797262370054}", 
        "GM_thickness: {'pvalue': 0.083208775694248838, 'f': 2.4898690938848773}", 
        "opening: {'pvalue': 0.028939631899453904, 'f': 3.5495831840144469}"
       ]
      }
     ], 
     "prompt_number": 76
    }, 
    {
     "cell_type": "code", 
     "collapsed": false, 
     "input": [
      "print(\"\\nSillon rhinal\")", 
      "for s in measures:", 
      "    print(s +\": \"+ str(all_results['S.Rh._left']['anova'][s]))"
     ], 
     "language": "python", 
     "outputs": [
      {
       "output_type": "stream", 
       "stream": "stdout", 
       "text": [
        "", 
        "Sillon rhinal", 
        "surface: {'pvalue': 0.81281681106360582, 'f': 0.2072735842798587}", 
        "depthMax: {'pvalue': 0.79076510008623413, 'f': 0.2347851975018829}", 
        "depthMean: {'pvalue': 0.81445711818574884, 'f': 0.20525709923799032}", 
        "length: {'pvalue': 0.70768484493572292, 'f': 0.34582340070049206}", 
        "GM_thickness: {'pvalue': 0.83379244103117522, 'f': 0.18178929066786736}", 
        "opening: {'pvalue': 0.018776884605662462, 'f': 3.9839943292953879}"
       ]
      }
     ], 
     "prompt_number": 39
    }, 
    {
     "cell_type": "markdown", 
     "source": [
      "<h3>IHI and Intracraneal volume, Brain volume</h3>"
     ]
    }, 
    {
     "cell_type": "markdown", 
     "source": [
      "<h3>ICV - BV</h3>", 
      "<h4>Correlation</h4>"
     ]
    }, 
    {
     "cell_type": "code", 
     "collapsed": false, 
     "input": [
      "r = sp.pearsonr(sel_p.ICV.values, sel_p.BV.values)", 
      "print('Pearson Coef: ' + str(r[0]) + ',  p-value: ' + str(r[1]))", 
      "", 
      "r = sp.spearmanr(sel_p.ICV.values, sel_p.BV.values)", 
      "print('Spearman Coef: ' + str(r[0]) + ',  p-value: ' + str(r[1]))"
     ], 
     "language": "python", 
     "outputs": [
      {
       "output_type": "stream", 
       "stream": "stdout", 
       "text": [
        "Pearson Coef: 0.908073352867,  p-value: 0.0", 
        "Spearman Coef: 0.910527442738,  p-value: 0.0"
       ]
      }
     ], 
     "prompt_number": 78
    }, 
    {
     "cell_type": "markdown", 
     "source": [
      "<h3>IHI - ICV</h3>", 
      "<h4>Correlation</h4>"
     ]
    }, 
    {
     "cell_type": "code", 
     "collapsed": false, 
     "input": [
      "r = sp.pearsonr(sel_p.SCi_L.values, sel_p.ICV.values)", 
      "print('Pearson Coef: ' + str(r[0]) + ',  p-value: ' + str(r[1]))", 
      "", 
      "r = sp.spearmanr(sel_p.SCi_L.values, sel_p.ICV.values)", 
      "print('Spearman Coef: ' + str(r[0]) + ',  p-value: ' + str(r[1]))"
     ], 
     "language": "python", 
     "outputs": [
      {
       "output_type": "stream", 
       "stream": "stdout", 
       "text": [
        "Pearson Coef: -0.00569536295565,  p-value: 0.809818234508", 
        "Spearman Coef: -0.0163221671365,  p-value: 0.490356434106"
       ]
      }
     ], 
     "prompt_number": 79
    }, 
    {
     "cell_type": "markdown", 
     "source": [
      "<h4>T-test</h4>"
     ]
    }, 
    {
     "cell_type": "code", 
     "collapsed": false, 
     "input": [
      "r = sp.ttest_ind(IHI.ICV.values, nIHI.ICV.values)", 
      "print('T: ' + str(r[0]) + ',  p-value: ' + str(r[1]))", 
      "print(\"Mean IHI: \"+ str(np.mean(IHI.ICV)) +\",  mean nonIHI: \"+ str(np.mean(nIHI.ICV))) "
     ], 
     "language": "python", 
     "outputs": [
      {
       "output_type": "stream", 
       "stream": "stdout", 
       "text": [
        "T: 0.369979093967,  p-value: 0.711441934087", 
        "Mean IHI: 0.765508688279,  mean nonIHI: 0.763918684932"
       ]
      }
     ], 
     "prompt_number": 80
    }, 
    {
     "cell_type": "markdown", 
     "source": [
      "<h4>ANOVA</h4>"
     ]
    }, 
    {
     "cell_type": "code", 
     "collapsed": false, 
     "input": [
      "", 
      "r = sp.f_oneway(gIHI.ICV.values, gPartIHI.ICV.values, gNoIHI.ICV.values)", 
      "print('F: ' + str(r[0]) + ',  p-value: ' + str(r[1]))"
     ], 
     "language": "python", 
     "outputs": [
      {
       "output_type": "stream", 
       "stream": "stdout", 
       "text": [
        "", 
        "ANOVA ICV (C0)", 
        "F: 1.88897304886,  p-value: 0.151529210712"
       ]
      }
     ], 
     "prompt_number": 81
    }, 
    {
     "cell_type": "markdown", 
     "source": [
      "<h3>IHI - BV</h3>", 
      "<h4>Correlation</h4>"
     ]
    }, 
    {
     "cell_type": "code", 
     "collapsed": false, 
     "input": [
      "r = sp.pearsonr(sel_p.SCi_L.values, sel_p.BV.values)", 
      "print('Pearson Coef: ' + str(r[0]) + ',  p-value: ' + str(r[1]))", 
      "", 
      "r = sp.spearmanr(sel_p.SCi_L.values, sel_p.BV.values)", 
      "print('Spearman Coef: ' + str(r[0]) + ',  p-value: ' + str(r[1]))"
     ], 
     "language": "python", 
     "outputs": [
      {
       "output_type": "stream", 
       "stream": "stdout", 
       "text": [
        "Pearson Coef: -0.000509982183887,  p-value: 0.982807405576", 
        "Spearman Coef: -0.00463632865963,  p-value: 0.844680652532"
       ]
      }
     ], 
     "prompt_number": 82
    }, 
    {
     "cell_type": "markdown", 
     "source": [
      "<h4>T-test</h4>"
     ]
    }, 
    {
     "cell_type": "code", 
     "collapsed": false, 
     "input": [
      "r = sp.ttest_ind(IHI.BV.values, nIHI.BV.values)", 
      "print('T: ' + str(r[0]) + ',  p-value: ' + str(r[1]))", 
      "print(\"Mean IHI: \"+ str(np.mean(IHI.BV)) +\",  mean nonIHI: \"+ str(np.mean(nIHI.BV))) "
     ], 
     "language": "python", 
     "outputs": [
      {
       "output_type": "stream", 
       "stream": "stdout", 
       "text": [
        "T: 0.389038906726,  p-value: 0.69729374228", 
        "Mean IHI: 1121480.5586,  mean nonIHI: 1118754.80173"
       ]
      }
     ], 
     "prompt_number": 83
    }, 
    {
     "cell_type": "markdown", 
     "source": [
      "<h4>ANOVA</h4>"
     ]
    }, 
    {
     "cell_type": "code", 
     "collapsed": false, 
     "input": [
      "r = sp.f_oneway(gIHI.BV.values, gPartIHI.BV.values, gNoIHI.BV.values)", 
      "print('F: ' + str(r[0]) + ',  p-value: ' + str(r[1]))"
     ], 
     "language": "python", 
     "outputs": [
      {
       "output_type": "stream", 
       "stream": "stdout", 
       "text": [
        "F: 2.12708632811,  p-value: 0.119486054105"
       ]
      }
     ], 
     "prompt_number": 84
    }, 
    {
     "cell_type": "markdown", 
     "source": [
      "<h3>Gender and Handedness</h3>", 
      "<h4>Chi-sq</h4>", 
      "<h4>(PENDING)</h4>"
     ]
    }, 
    {
     "cell_type": "code", 
     "collapsed": false, 
     "input": [
      "obs_gender = pd.crosstab(sel_p[\"IHI_L\"], sel_p['Gender'])", 
      "print obs_gender", 
      "(chi2, p, dof, ex) = sp.chi2_contingency(obs_gender)", 
      "print \"Chi-sq: \"+ str(chi2) + \",  Df: \" + str(dof) + \",  pvalue: \" + str(p) + '\\n'", 
      "", 
      "obs_gender = pd.crosstab(all_p['Gender'], all_p[\"C0_L\"])", 
      "print obs_gender", 
      "(chi2, p, dof, ex) = sp.chi2_contingency(obs_gender)", 
      "print \"Chi-sq: \"+ str(chi2) + \",  Df: \" + str(dof) + \",  pvalue: \" + str(p) + '\\n'", 
      "", 
      "obs_hand = pd.crosstab(sel_p[\"IHI_L\"], sel_p['Handedness'])", 
      "print obs_hand", 
      "(chi2, p, dof, ex) =  sp.chi2_contingency(obs_hand)", 
      "print \"Chi-sq: \"+ str(chi2) + \",  Df: \" + str(dof) + \",  pvalue: \" + str(p) + '\\n'", 
      "", 
      "obs_hand = pd.crosstab(all_p[\"C0_L\"], all_p['Handedness'])", 
      "print obs_hand", 
      "(chi2, p, dof, ex) =  sp.chi2_contingency(obs_hand)", 
      "print \"Chi-sq: \"+ str(chi2) + \",  Df: \" + str(dof) + \",  pvalue: \" + str(p) + '\\n'"
     ], 
     "language": "python", 
     "outputs": [
      {
       "output_type": "stream", 
       "stream": "stdout", 
       "text": [
        "Gender and Handedness Chi-sq", 
        "", 
        "Gender  Female  Male", 
        "IHI_L               ", 
        "0          722   665", 
        "1          195   206", 
        "Chi-sq: 1.32780517206,  Df: 1,  pvalue: 0.249196055562", 
        "", 
        "C0_L      ?    N    Y", 
        "Gender               ", 
        "Female  136  719  174", 
        "Male    102  697  179", 
        "Chi-sq: 3.97637580441,  Df: 2,  pvalue: 0.136943355493", 
        "", 
        "Handedness  Both-handed  Left  Right", 
        "IHI_L                               ", 
        "0                    11   144   1232", 
        "1                     2    54    345", 
        "Chi-sq: 3.31718801021,  Df: 2,  pvalue: 0.19040650256", 
        "", 
        "Handedness  Both-handed  Left  Right  Undefined", 
        "C0_L                                           ", 
        "?                     2    27    208          1", 
        "N                    11   148   1229         10", 
        "Y                     1    43    303          3", 
        "Chi-sq: 2.2868390594,  Df: 6,  pvalue: 0.891519550613", 
        ""
       ]
      }
     ], 
     "prompt_number": 72
    }, 
    {
     "cell_type": "markdown", 
     "source": [
      "<h3>Regressions</h3>"
     ]
    }, 
    {
     "cell_type": "code", 
     "collapsed": true, 
     "input": [
      "dm_ihi = pd.get_dummies(sel_p[\"IHI_L\"], prefix='IHI')", 
      "dm_gender = pd.get_dummies(sel_p['Gender'], prefix='gender')", 
      "dm_hand = pd.get_dummies(sel_p['Handedness'], prefix='handedness')", 
      "", 
      "expl = pd.concat([dm_gender['gender_Female'], dm_hand[['handedness_Left','handedness_Right']]], axis=1)", 
      "expl['intercept'] = 1", 
      "#print expl"
     ], 
     "language": "python", 
     "outputs": [], 
     "prompt_number": 51
    }, 
    {
     "cell_type": "markdown", 
     "source": [
      "<h4>Logistic regression</h4>"
     ]
    }, 
    {
     "cell_type": "code", 
     "collapsed": false, 
     "input": [
      "#Logit", 
      "lr = sm.Logit(dm_ihi['IHI_1'], expl).fit()", 
      "print lr.summary()"
     ], 
     "language": "python", 
     "outputs": [
      {
       "output_type": "stream", 
       "stream": "stdout", 
       "text": [
        "Optimization terminated successfully.", 
        "         Current function value: 0.531006", 
        "         Iterations 6", 
        "                           Logit Regression Results                           ", 
        "==============================================================================", 
        "Dep. Variable:                  IHI_1   No. Observations:                 1788", 
        "Model:                          Logit   Df Residuals:                     1784", 
        "Method:                           MLE   Df Model:                            3", 
        "Date:                Tue, 03 Mar 2015   Pseudo R-squ.:                0.002362", 
        "Time:                        16:56:53   Log-Likelihood:                -949.44", 
        "converged:                       True   LL-Null:                       -951.69", 
        "                                        LLR p-value:                    0.2126", 
        "====================================================================================", 
        "                       coef    std err          z      P>|z|      [95.0% Conf. Int.]", 
        "------------------------------------------------------------------------------------", 
        "gender_Female       -0.1281      0.114     -1.125      0.261        -0.351     0.095", 
        "handedness_Left      0.7391      0.785      0.941      0.347        -0.800     2.278", 
        "handedness_Right     0.4599      0.772      0.596      0.551        -1.053     1.972", 
        "intercept           -1.6665      0.770     -2.166      0.030        -3.175    -0.158", 
        "===================================================================================="
       ]
      }
     ], 
     "prompt_number": 45
    }, 
    {
     "cell_type": "markdown", 
     "source": [
      "<h4>Linear regression</h4>"
     ]
    }, 
    {
     "cell_type": "code", 
     "collapsed": false, 
     "input": [
      "#Linear", 
      "lr = sm.OLS(sel_p.SCi_L, expl).fit()", 
      "print lr.summary()"
     ], 
     "language": "python", 
     "outputs": [
      {
       "output_type": "stream", 
       "stream": "stdout", 
       "text": [
        "                            OLS Regression Results                            ", 
        "==============================================================================", 
        "Dep. Variable:                  SCi_L   R-squared:                       0.001", 
        "Model:                            OLS   Adj. R-squared:                 -0.001", 
        "Method:                 Least Squares   F-statistic:                    0.4265", 
        "Date:                Tue, 03 Mar 2015   Prob (F-statistic):              0.734", 
        "Time:                        16:56:53   Log-Likelihood:                -3490.5", 
        "No. Observations:                1788   AIC:                             6989.", 
        "Df Residuals:                    1784   BIC:                             7011.", 
        "Df Model:                           3                                         ", 
        "====================================================================================", 
        "                       coef    std err          t      P>|t|      [95.0% Conf. Int.]", 
        "------------------------------------------------------------------------------------", 
        "gender_Female       -0.0773      0.081     -0.955      0.340        -0.236     0.081", 
        "handedness_Left      0.2248      0.489      0.460      0.645        -0.734     1.183", 
        "handedness_Right     0.1673      0.476      0.352      0.725        -0.765     1.100", 
        "intercept            2.4469      0.474      5.163      0.000         1.517     3.376", 
        "==============================================================================", 
        "Omnibus:                      211.941   Durbin-Watson:                   2.002", 
        "Prob(Omnibus):                  0.000   Jarque-Bera (JB):              291.542", 
        "Skew:                           0.929   Prob(JB):                     4.93e-64", 
        "Kurtosis:                       3.677   Cond. No.                         29.7", 
        "=============================================================================="
       ]
      }
     ], 
     "prompt_number": 46
    }
   ]
  }
 ]
}