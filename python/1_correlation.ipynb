{
 "metadata": {
  "name": "1_correlation"
 }, 
 "nbformat": 2, 
 "worksheets": [
  {
   "cells": [
    {
     "cell_type": "code", 
     "collapsed": false, 
     "input": [
      "import os", 
      "import pandas as pd", 
      "import numpy as np", 
      "import scipy.stats as sp", 
      "import csv", 
      "import statsmodels.api as sm", 
      "import matplotlib.pyplot as plt", 
      "%matplotlib inline"
     ], 
     "language": "python", 
     "outputs": [], 
     "prompt_number": 116
    }, 
    {
     "cell_type": "code", 
     "collapsed": true, 
     "input": [
      "all_p = pd.io.parsers.read_csv('/lena16/dartagnan2/samper/data/DB_IMAGEN_all.csv', sep='\\t', quotechar='\"')", 
      "#print(sum(all_p['nb segL >= 3']))"
     ], 
     "language": "python", 
     "outputs": [], 
     "prompt_number": 94
    }, 
    {
     "cell_type": "code", 
     "collapsed": false, 
     "input": [
      "all_qc = pd.io.parsers.read_csv('/lena16/dartagnan2/samper/data/Data_Sillons_IMAGEN/QCS/qcs_all.csv', sep='\\t', quotechar='\"')", 
      "", 
      "ids_gt3 = all_qc[all_qc.LeftHemiMesh>=3]['Subject']", 
      "", 
      "print(\"Number of subjects with an IHI score and QC: \\n\" + str(sum(all_p.Subject.isin(all_qc.Subject))))", 
      "", 
      "print(\"Number of subjects with an IHI score and a QC score >= 3: \\n\" + str(sum(all_p.Subject.isin(ids_gt3))))"
     ], 
     "language": "python", 
     "outputs": [], 
     "prompt_number": 95
    }, 
    {
     "cell_type": "code", 
     "collapsed": true, 
     "input": [
      "# Subjects with an IHI score and a QC score >= 3", 
      "sel_p = all_p[all_p.Subject.isin(ids_gt3)]", 
      "", 
      "# 3 groups according to global criteria C0", 
      "gIHI = sel_p[sel_p.C0_L == 'Y']", 
      "gPartIHI = sel_p[sel_p.C0_L == '?']", 
      "gNoIHI = sel_p[sel_p.C0_L == 'N']", 
      "", 
      "# QC Mean for IHI and non IHI", 
      "IHI = all_p[all_p.SCi_L >= 4]", 
      "nIHI = all_p[all_p.SCi_L < 4]"
     ], 
     "language": "python", 
     "outputs": [], 
     "prompt_number": 130
    }, 
    {
     "cell_type": "code", 
     "collapsed": false, 
     "input": [
      "IHI_qc = all_qc[all_qc.Subject.isin(IHI.Subject)]", 
      "nIHI_qc = all_qc[all_qc.Subject.isin(nIHI.Subject)]", 
      "", 
      "print('Mean QC IHI:'+str(np.mean(IHI_qc.LeftHemiMesh)))", 
      "print('Mean QC no IHI:'+str(np.mean(nIHI_qc.LeftHemiMesh)))"
     ], 
     "language": "python", 
     "outputs": [
      {
       "output_type": "stream", 
       "stream": "stdout", 
       "text": [
        "Mean QC IHI:4.54187192118", 
        "Mean QC no IHI:4.49298737728"
       ]
      }
     ], 
     "prompt_number": 131
    }, 
    {
     "cell_type": "code", 
     "collapsed": false, 
     "input": [
      "# Selecting IHI and non IHI with QC >= 3", 
      "IHI = sel_p[sel_p.SCi_L >= 4]", 
      "nIHI = sel_p[sel_p.SCi_L < 4]", 
      "", 
      "print('Number of IHI:'+str(len(IHI.index)))", 
      "print('Number of non IHI:'+str(len(nIHI.index)))"
     ], 
     "language": "python", 
     "outputs": [
      {
       "output_type": "stream", 
       "stream": "stdout", 
       "text": [
        "Number of IHI:401", 
        "Number of non IHI:1387"
       ]
      }
     ], 
     "prompt_number": 132
    }, 
    {
     "cell_type": "code", 
     "collapsed": true, 
     "input": [
      "# Verification", 
      "#print \"\\n\"", 
      "#print min(IHI.SCi_L)", 
      "#print max(IHI.SCi_L)", 
      "#", 
      "#print min(nIHI.SCi_L)", 
      "#\"print max(nIHI.SCi_L)", 
      "#", 
      "#\"groups_v = []", 
      "#for row in all_qc.iterrows():", 
      "#    if sum(IHI.Subject == row[1].Subject) > 0:", 
      "#        groups_v.append(1)", 
      "#    elif sum(nIHI.Subject == row[1].Subject) > 0:", 
      "#        groups_v.append(0)", 
      "#    else:", 
      "#        groups_v.append(-1)", 
      "#        ", 
      "#print(len(groups_v))", 
      "#", 
      "#print(groups_v.count(1))", 
      "#print(groups_v.count(0))", 
      "#print(groups_v.count(-1))"
     ], 
     "language": "python", 
     "outputs": [], 
     "prompt_number": 133
    }, 
    {
     "cell_type": "code", 
     "collapsed": false, 
     "input": [
      "IHI_qc = all_qc[all_qc.Subject.isin(IHI.Subject)]", 
      "nIHI_qc = all_qc[all_qc.Subject.isin(nIHI.Subject)]", 
      "", 
      "sel_p.loc[:,'C0_L'] = sel_p.C0_L.map({'Y':'1','N':'0','?':'-1'})", 
      "sel_p.loc[:,'IHI_L'] = (sel_p.SCi_L >= 4) + 0", 
      "", 
      "#Replacing Null values by most common value 'Right'", 
      "print sum(sel_p.Handedness == 'Undefined')", 
      "sel_p.loc[:,'Handedness'].replace('Undefined', 'Right', inplace=True)", 
      "", 
      "print sum(sel_p.Handedness.isnull())", 
      "sel_p.loc[:,'Handedness'].fillna('Right', inplace=True)", 
      "", 
      "sel_p.to_csv('/lena16/dartagnan2/samper/data/selected.csv', columns = [\"Subject\", \"SCi_L\", \"C0_L\"], index = False, sep = ';') "
     ], 
     "language": "python", 
     "outputs": [
      {
       "output_type": "stream", 
       "stream": "stdout", 
       "text": [
        "0", 
        "0"
       ]
      }
     ], 
     "prompt_number": 136
    }, 
    {
     "cell_type": "code", 
     "collapsed": true, 
     "input": [
      "sulci = []", 
      "dir_name = '/lena16/dartagnan2/samper/data/Data_Sillons_IMAGEN/Imagen_mainSulcalMorphometry/' ", 
      "for f in os.listdir(dir_name):", 
      "    if f.endswith(\".csv\"):", 
      "        sulci.append((f, os.path.join(dir_name, f)))", 
      "        #print f", 
      "#print sulci", 
      "measures = [\"surface\",\"depthMax\",\"depthMean\",\"length\",\"GM_thickness\",\"opening\"]"
     ], 
     "language": "python", 
     "outputs": [], 
     "prompt_number": 101
    }, 
    {
     "cell_type": "code", 
     "collapsed": false, 
     "input": [
      "all_results = {}", 
      "for (s, f) in sulci:", 
      "    sillon = pd.io.parsers.read_csv(f, sep=';', quotechar='\"')", 
      "    ", 
      "    sulcus = s.split('_')[1]", 
      "    side = s.split('_')[2].split('.')[0]", 
      "    sulcus_side = sulcus + '_' + side", 
      "    ", 
      "    sulcus_results = {}", 
      "    ", 
      "### Correlation lineaire entre IHI score et sillons", 
      "    sel_sillon = sillon[sillon.subject.isin(sel_p.Subject)]", 
      "    temp_results = {}", 
      "    for m in measures:", 
      "        r = sp.pearsonr(sel_p.SCi_L.values, sel_sillon[m].values)", 
      "        temp_results[m] = {'coefficient' : r[0], 'pvalue' : r[1]}", 
      "    sulcus_results['pearson'] = temp_results", 
      "        ", 
      "### T-test on binary partition", 
      "    sel_IHI = sillon[sillon.subject.isin(IHI.Subject)]", 
      "    sel_nIHI = sillon[sillon.subject.isin(nIHI.Subject)]", 
      "    temp_results = {}", 
      "    for m in measures:", 
      "        r = sp.ttest_ind(sel_IHI[m].values, sel_nIHI[m].values)", 
      "        temp_results[m] = {'t' : r[0], 'pvalue' : r[1], 'meanIHI' : np.mean(sel_IHI[m]), 'meanNoIHI' : np.mean(sel_nIHI[m]) }", 
      "    sulcus_results['ttest'] = temp_results", 
      "    ", 
      "### ANOVA 3 groups C0", 
      "    sel_gIHI = sillon[sillon.subject.isin(gIHI.Subject)]", 
      "    sel_gPartIHI = sillon[sillon.subject.isin(gPartIHI.Subject)]", 
      "    sel_gNoIHI = sillon[sillon.subject.isin(gNoIHI.Subject)]", 
      "    temp_results = {}", 
      "    for m in measures:", 
      "        r = sp.f_oneway(sel_gIHI[m].values, sel_gPartIHI[m].values, sel_gNoIHI[m].values)", 
      "        temp_results[m] = {'f' : r[0], 'pvalue' : r[1]}", 
      "    sulcus_results['anova'] = temp_results", 
      "    ", 
      "    all_results[sulcus_side] = sulcus_results", 
      "    ", 
      "print all_results"
     ], 
     "language": "python", 
     "outputs": [], 
     "prompt_number": 102
    }, 
    {
     "cell_type": "code", 
     "collapsed": false, 
     "input": [
      "print(\"Correlation - Pearson\")", 
      "print(\"\\nSillon collateral\")", 
      "for s in measures:", 
      "    print(s +\": \"+ str(all_results['F.Coll._left']['pearson'][s]))"
     ], 
     "language": "python", 
     "outputs": [], 
     "prompt_number": 103
    }, 
    {
     "cell_type": "code", 
     "collapsed": false, 
     "input": [
      "print(\"\\nSillon rhinal\")", 
      "for s in measures:", 
      "    print(s +\": \"+ str(all_results['S.Rh._left']['pearson'][s]))"
     ], 
     "language": "python", 
     "outputs": [], 
     "prompt_number": 104
    }, 
    {
     "cell_type": "code", 
     "collapsed": false, 
     "input": [
      "print(\"T-test\")", 
      "print(\"\\nSillon collateral\")", 
      "for s in measures:", 
      "    print(s +\": \"+ str(all_results['F.Coll._left']['ttest'][s]))"
     ], 
     "language": "python", 
     "outputs": [], 
     "prompt_number": 105
    }, 
    {
     "cell_type": "code", 
     "collapsed": false, 
     "input": [
      "print(\"\\nSillon rhinal\")", 
      "for s in measures:", 
      "    print(s +\": \"+ str(all_results['S.Rh._left']['ttest'][s]))"
     ], 
     "language": "python", 
     "outputs": [], 
     "prompt_number": 106
    }, 
    {
     "cell_type": "code", 
     "collapsed": false, 
     "input": [
      "print(\"ANOVA\")", 
      "print(\"\\nSillon collateral\")", 
      "for s in measures:", 
      "    print(s +\": \"+ str(all_results['S.C._left']['anova'][s]))"
     ], 
     "language": "python", 
     "outputs": [], 
     "prompt_number": 107
    }, 
    {
     "cell_type": "code", 
     "collapsed": false, 
     "input": [
      "print(\"\\nSillon rhinal\")", 
      "for s in measures:", 
      "    print(s +\": \"+ str(all_results['S.Rh._left']['anova'][s]))"
     ], 
     "language": "python", 
     "outputs": [], 
     "prompt_number": 108
    }, 
    {
     "cell_type": "code", 
     "collapsed": false, 
     "input": [
      "### Correlation entre IHI and Intracraneal volume, IHI and Brain volume ###", 
      "", 
      "print(\"\\nICV-BV\")", 
      "r = sp.pearsonr(sel_p.ICV.values, sel_p.BV.values)", 
      "print('Coef: ' + str(r[0]) + ',  p-value: ' + str(r[1]))"
     ], 
     "language": "python", 
     "outputs": [], 
     "prompt_number": 109
    }, 
    {
     "cell_type": "code", 
     "collapsed": false, 
     "input": [
      "#ICV", 
      "print(\"\\nIHI score - ICV\")", 
      "r = sp.pearsonr(sel_p.SCi_L.values, sel_p.ICV.values)", 
      "print('Coef: ' + str(r[0]) + ',  p-value: ' + str(r[1]))", 
      "", 
      "print(\"\\nT-test ICV (Binary IHI)\")", 
      "", 
      "r = sp.ttest_ind(IHI.ICV.values, nIHI.ICV.values)", 
      "print('T: ' + str(r[0]) + ',  p-value: ' + str(r[1]))", 
      "print(\"Mean IHI: \"+ str(np.mean(IHI.ICV)) +\",  mean nonIHI: \"+ str(np.mean(nIHI.ICV))) ", 
      "", 
      "", 
      "print(\"\\nANOVA ICV (C0)\")", 
      "r = sp.f_oneway(gIHI.ICV.values, gPartIHI.ICV.values, gNoIHI.ICV.values)", 
      "print('F: ' + str(r[0]) + ',  p-value: ' + str(r[1]))"
     ], 
     "language": "python", 
     "outputs": [], 
     "prompt_number": 110
    }, 
    {
     "cell_type": "code", 
     "collapsed": false, 
     "input": [
      "#BV", 
      "print(\"\\nIHI score - BV\")", 
      "print(str(sp.pearsonr(sel_p.SCi_L.values, sel_p.BV.values)))", 
      "", 
      "print(\"\\nT-test ICV (Binary IHI)\")", 
      "", 
      "print(str(sp.ttest_ind(IHI.BV.values, nIHI.BV.values)))", 
      "print(\"Mean IHI \"+ str(np.mean(IHI.BV)) +\",   mean non IHI \"+ str(np.mean(nIHI.BV))) ", 
      "", 
      "", 
      "print(\"\\nANOVA ICV (C0)\")", 
      "print(str(sp.f_oneway(gIHI.BV.values, gPartIHI.BV.values, gNoIHI.BV.values)))"
     ], 
     "language": "python", 
     "outputs": [], 
     "prompt_number": 111
    }, 
    {
     "cell_type": "code", 
     "collapsed": false, 
     "input": [
      "obs_gender = pd.crosstab(sel_p[\"IHI_L\"], sel_p['Gender'])", 
      "print obs_gender", 
      "#sp.chi2_contingency(obs_gender)", 
      "", 
      "obs_hand = pd.crosstab(sel_p[\"IHI_L\"], sel_p['Handedness'])", 
      "print obs_hand", 
      "#sp.chi2_contingency(obs_hand)"
     ], 
     "language": "python", 
     "outputs": [
      {
       "output_type": "stream", 
       "stream": "stdout", 
       "text": [
        "Gender  Female  Male", 
        "IHI_L               ", 
        "0          722   665", 
        "1          195   206", 
        "Handedness  Both-handed  Left  Right", 
        "IHI_L                               ", 
        "0                    11   144   1232", 
        "1                     2    54    345"
       ]
      }
     ], 
     "prompt_number": 126
    }, 
    {
     "cell_type": "code", 
     "collapsed": false, 
     "input": [
      "### Regressions", 
      "dm_ihi = pd.get_dummies(sel_p[\"IHI_L\"], prefix='IHI')", 
      "dm_gender = pd.get_dummies(sel_p['Gender'], prefix='gender')", 
      "dm_hand = pd.get_dummies(sel_p['Handedness'], prefix='handedness')", 
      "", 
      "expl = pd.concat([dm_gender['gender_Female'], dm_hand[['handedness_Left','handedness_Right']]], axis=1)", 
      "#expl = pd.concat([dm_gender['gender_Female'], dm_hand], axis=1)", 
      "expl['intercept'] = 1", 
      "#print expl"
     ], 
     "language": "python", 
     "outputs": []
    }, 
    {
     "cell_type": "code", 
     "collapsed": false, 
     "input": [
      "#Logit", 
      "lr = sm.Logit(dm_ihi['IHI_1'], expl).fit()", 
      "print lr.summary()"
     ], 
     "language": "python", 
     "outputs": []
    }, 
    {
     "cell_type": "code", 
     "collapsed": false, 
     "input": [
      "#Linear", 
      "lr = sm.OLS(sel_p.SCi_L, expl).fit()", 
      "print lr.summary()"
     ], 
     "language": "python", 
     "outputs": []
    }
   ]
  }
 ]
}