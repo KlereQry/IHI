{
 "metadata": {
  "name": "1_correlation"
 }, 
 "name": "1_correlation", 
 "nbformat": 2, 
 "worksheets": [
  {
   "cells": [
    {
     "cell_type": "code", 
     "collapsed": true, 
     "input": "import pandas as pd\nimport numpy as np\nimport scipy.stats as sp\nimport csv\nimport statsmodels.api as sm", 
     "language": "python", 
     "outputs": [], 
     "prompt_number": 30
    }, 
    {
     "cell_type": "code", 
     "collapsed": true, 
     "input": "all_p = pd.io.parsers.read_csv('/lena16/dartagnan2/samper/data/DB_IMAGEN_all.csv', sep='\\t', quotechar='\"')\n#print(sum(all_p['nb segL >= 3']))", 
     "language": "python", 
     "outputs": [], 
     "prompt_number": 31
    }, 
    {
     "cell_type": "code", 
     "collapsed": false, 
     "input": "all_qc = pd.io.parsers.read_csv('/lena16/dartagnan2/samper/data/Data_Sillons_IMAGEN/QCS/qcs_all.csv', sep='\\t', quotechar='\"')\n\nids_gt3 = all_qc[all_qc.LeftHemiMesh>=3]['Subject']\n\nprint(\"Number of subjects with an IHI score and QC: \\n\" + str(sum(all_p.Subject.isin(all_qc.Subject))))\n\nprint(\"Number of subjects with an IHI score and a QC score >= 3: \\n\" + str(sum(all_p.Subject.isin(ids_gt3))))", 
     "language": "python", 
     "outputs": [
      {
       "output_type": "stream", 
       "stream": "stdout", 
       "text": "Number of subjects with an IHI score and QC: \n1832\nNumber of subjects with an IHI score and a QC score >= 3: \n1788"
      }
     ], 
     "prompt_number": 32
    }, 
    {
     "cell_type": "code", 
     "collapsed": true, 
     "input": "# Subjects with an IHI score and a QC score >= 3\nsel_p = all_p[all_p.Subject.isin(ids_gt3)]\n\n# 3 groups according to global criteria C0\ngIHI = sel_p[sel_p.C0_L == 'Y']\ngPartIHI = sel_p[sel_p.C0_L == '?']\ngNoIHI = sel_p[sel_p.C0_L == 'N']\n\n# QC Mean for IHI and non IHI\nIHI = all_p[all_p.SCi_L >= 4]\nnIHI = all_p[all_p.SCi_L < 4]", 
     "language": "python", 
     "outputs": [], 
     "prompt_number": 33
    }, 
    {
     "cell_type": "code", 
     "collapsed": false, 
     "input": "IHI_qc = all_qc[all_qc.Subject.isin(IHI.Subject)]\nnIHI_qc = all_qc[all_qc.Subject.isin(nIHI.Subject)]\n\nprint('Mean QC IHI:'+str(np.mean(IHI_qc.LeftHemiMesh)))\nprint('Mean QC no IHI:'+str(np.mean(nIHI_qc.LeftHemiMesh)))", 
     "language": "python", 
     "outputs": [
      {
       "output_type": "stream", 
       "stream": "stdout", 
       "text": "Mean QC IHI:4.54187192118\nMean QC no IHI:4.49298737728"
      }
     ], 
     "prompt_number": 34
    }, 
    {
     "cell_type": "code", 
     "collapsed": false, 
     "input": "# Selecting IHI and non IHI with QC >= 3\nIHI = sel_p[sel_p.SCi_L >= 4]\nnIHI = sel_p[sel_p.SCi_L < 4]\n\nprint('Number of IHI:'+str(len(IHI.index)))\nprint('Number of non IHI:'+str(len(nIHI.index)))", 
     "language": "python", 
     "outputs": [
      {
       "output_type": "stream", 
       "stream": "stdout", 
       "text": "Number of IHI:401\nNumber of non IHI:1387"
      }
     ], 
     "prompt_number": 35
    }, 
    {
     "cell_type": "code", 
     "collapsed": true, 
     "input": "# Verification\n#print \"\\n\"\n#print min(IHI.SCi_L)\n#print max(IHI.SCi_L)\n#\n#print min(nIHI.SCi_L)\n#\"print max(nIHI.SCi_L)\n#\n#\"groups_v = []\n#for row in all_qc.iterrows():\n#    if sum(IHI.Subject == row[1].Subject) > 0:\n#        groups_v.append(1)\n#    elif sum(nIHI.Subject == row[1].Subject) > 0:\n#        groups_v.append(0)\n#    else:\n#        groups_v.append(-1)\n#        \n#print(len(groups_v))\n#\n#print(groups_v.count(1))\n#print(groups_v.count(0))\n#print(groups_v.count(-1))", 
     "language": "python", 
     "outputs": []
    }, 
    {
     "cell_type": "code", 
     "collapsed": false, 
     "input": "IHI_qc = all_qc[all_qc.Subject.isin(IHI.Subject)]\nnIHI_qc = all_qc[all_qc.Subject.isin(nIHI.Subject)]\n\nsel_p.loc[:,'C0_L'] = sel_p.C0_L.map({'Y':'1','N':'0','?':'-1'})\nsel_p.loc[:,'IHI_L'] = (sel_p.SCi_L >= 4) + 0\n\nsel_p.loc[:,'Handedness'].replace('Undefined', 'Right', inplace=True)\nsel_p.loc[:,'Handedness'].fillna('Right', inplace=True)\n\nsel_p.to_csv('/lena16/dartagnan2/samper/data/selected.csv', columns = [\"Subject\", \"SCi_L\", \"C0_L\"], index = False, sep = ';') ", 
     "language": "python", 
     "outputs": [
      {
       "output_type": "stream", 
       "stream": "stderr", 
       "text": "-c:7: SettingWithCopyWarning: A value is trying to be set on a copy of a slice from a DataFrame"
      }
     ], 
     "prompt_number": 36
    }, 
    {
     "cell_type": "code", 
     "collapsed": false, 
     "input": "### Correlation lineaire entre IHI score et sillons d'interets ###\n\nmeasures = [\"surface\",\"depthMax\",\"depthMean\",\"length\",\"GM_thickness\",\"opening\"]\n\n#Sillon collateral\nprint(\"\\nSillon collateral\")\n\nsillon = pd.io.parsers.read_csv('/lena16/dartagnan2/samper/data/Data_Sillons_IMAGEN/Imagen_mainSulcalMorphometry/mainmorpho_F.Coll._left.csv', sep=';', quotechar='\"')\n\nsel_sillon = sillon[sillon.subject.isin(sel_p.Subject)]\n\nfor s in measures:\n    print(s +\": \"+ str(sp.pearsonr(sel_p.SCi_L.values, sel_sillon[s].values)))\n    \n\n#Sillon rhinal\nprint(\"\\nSillon rhinal\")\n\nsillon = pd.io.parsers.read_csv('/lena16/dartagnan2/samper/data/Data_Sillons_IMAGEN/Imagen_mainSulcalMorphometry/mainmorpho_S.Rh._left.csv', sep=';', quotechar='\"')\n\nsel_sillon = sillon[sillon.subject.isin(sel_p.Subject)]\n\nfor s in measures:\n    print(s +\": \"+ str(sp.pearsonr(sel_p.SCi_L.values, sel_sillon[s].values)))\n    \n\n### Groups IHI et non IHI dans les sillons d'interets ###\n\n#Sillon collateral\nprint(\"\\nSillon collateral IHI - Non IHI\")\n\nsillon = pd.io.parsers.read_csv('/lena16/dartagnan2/samper/data/Data_Sillons_IMAGEN/Imagen_mainSulcalMorphometry/mainmorpho_F.Coll._left.csv', sep=';', quotechar='\"')\n\nsel_IHI = sillon[sillon.subject.isin(IHI.Subject)]\nsel_nIHI = sillon[sillon.subject.isin(nIHI.Subject)]\n\nfor s in measures:\n    print(s +\": \"+ str(sp.ttest_ind(sel_IHI[s].values, sel_nIHI[s].values)))\n    print(s +\": mean IHI \"+ str(np.mean(sel_IHI[s])) +\",   mean non IHI \"+ str(np.mean(sel_nIHI[s]))) \n\nprint(\"\\nSillon collateral ANOVA 3 groups C0\")\n\nsel_gIHI = sillon[sillon.subject.isin(gIHI.Subject)]\nsel_gPartIHI = sillon[sillon.subject.isin(gPartIHI.Subject)]\nsel_gNoIHI = sillon[sillon.subject.isin(gNoIHI.Subject)]\nfor s in measures:\n    print(s +\": \"+ str(sp.f_oneway(sel_gIHI[s].values, sel_gPartIHI[s].values, sel_gNoIHI[s].values)))\n\n\n    \n\n#Sillon rhinal\nprint(\"\\nSillon rhinal IHI - Non IHI\")\n\nsillon = pd.io.parsers.read_csv('/lena16/dartagnan2/samper/data/Data_Sillons_IMAGEN/Imagen_mainSulcalMorphometry/mainmorpho_S.Rh._left.csv', sep=';', quotechar='\"')\n\nsel_IHI = sillon[sillon.subject.isin(IHI.Subject)]\nsel_nIHI = sillon[sillon.subject.isin(nIHI.Subject)]\n\nfor s in measures:\n    print(s +\": \"+ str(sp.ttest_ind(sel_IHI[s].values, sel_nIHI[s].values)))\n    print(s +\": mean IHI \"+ str(np.mean(sel_IHI[s])) +\",   mean non IHI \"+ str(np.mean(sel_nIHI[s]))) \n\n#### Repeat for other sulci\n\n", 
     "language": "python", 
     "outputs": [
      {
       "output_type": "stream", 
       "stream": "stdout", 
       "text": "\nSillon collateral\nsurface: (-0.044089941892559291, 0.062330869890990098)\ndepthMax: (0.17008747529465371, 4.4904925178827382e-13)\ndepthMean: (0.076800762893140417, 0.0011539248412074066)\nlength: (-0.0010852371261639072, 0.96342430565936465)\nGM_thickness: (-0.0094844197542675816, 0.68858589063148345)\nopening: (0.14753635816201999, 3.6452525402155684e-10)\n\nSillon rhinal\nsurface: (0.01321485717957121, 0.57655726066412427)\ndepthMax: (0.053834126111706126, 0.022820800778339884)\ndepthMean: (0.019301307263136433, 0.41469682376036021)\nlength: (-0.012694792663445862, 0.59165287662711008)\nGM_thickness: (-0.0080336684716983825, 0.73425601777757765)\nopening: (0.016501377798786562, 0.48560497482299347)\n\nSillon collateral IHI - Non IHI\nsurface: (-2.8937704871605763, 0.0038526301478009808)\nsurface: mean IHI 2171.08487282,   mean non IHI 2270.2389106\ndepthMax: (7.5070374522166885, 9.4931646548186233e-14)\ndepthMax: mean IHI 26.7780049875,   mean non IHI 21.4571016583\ndepthMean: (3.7699136858331301, 0.00016861417786056426)\ndepthMean: mean IHI 13.6677433416,   mean non IHI 13.0179936337\nlength: (-1.0932921302023555, 0.27441299493042737)\nlength: mean IHI 110.29801995,   mean non IHI 111.832643187\nGM_thickness: (0.02401451284519909, 0.98084371513847313)\nGM_thickness: mean IHI 4.55760551122,   mean non IHI 4.5572218385\nopening: (5.045177067142518, 4.9915878227630745e-07)\nopening: mean IHI 1.64272197007,   mean non IHI 1.5405154434\n\nSillon collateral ANOVA 3 groups C0\nsurface: (12.53401048201264, 3.9302248895334301e-06)\ndepthMax: (18.098570168950811, 1.6539608104170288e-08)\ndepthMean: (1.1816490306250138, 0.30701229522454371)\nlength: (2.4459834274217966, 0.086931240626468842)\nGM_thickness: (0.52827006182577252, 0.5897162546000978)\nopening: (31.560583233638667, 3.3899488063742615e-14)\n\nSillon rhinal IHI - Non IHI\nsurface: (0.70984178785441887, 0.47789491613510215)\nsurface: mean IHI 784.652589526,   mean non IHI 768.972237347\ndepthMax: (2.112598362873749, 0.034773610399339079)\ndepthMax: mean IHI 16.2417955112,   mean non IHI 15.7396827686\ndepthMean: (1.3906540279859312, 0.16450360972312092)\ndepthMean: mean IHI 10.2853737157,   mean non IHI 10.0852558111\nlength: (0.096733037224876903, 0.92294925608958389)\nlength: mean IHI 48.1140668329,   mean non IHI 48.0081188897\nGM_thickness: (0.12345703495005704, 0.90175908641204838)\nGM_thickness: mean IHI 5.32861997506,   mean non IHI 5.32304678443\nopening: (2.3342510512502415, 0.019692945249377598)\nopening: mean IHI 3.80504417431,   mean non IHI 3.55438605335"
      }
     ], 
     "prompt_number": 37
    }, 
    {
     "cell_type": "code", 
     "collapsed": false, 
     "input": "### Correlation entre IHI and Intracraneal volume, IHI and Brain volume ###\n\nprint(\"\\nICV-BV\")\nprint(str(sp.pearsonr(sel_p.ICV.values, sel_p.BV.values)))\n\n#ICV\nprint(\"\\nIHI score - ICV\")\nprint(str(sp.pearsonr(sel_p.SCi_L.values, sel_p.ICV.values)))\n\nprint(\"\\nT-test ICV (Binary IHI)\")\n\nprint(str(sp.ttest_ind(IHI.ICV.values, nIHI.ICV.values)))\nprint(\"Mean IHI \"+ str(np.mean(IHI.ICV)) +\",   mean non IHI \"+ str(np.mean(nIHI.ICV))) \n\n\nprint(\"\\nANOVA ICV (C0)\")\nprint(str(sp.f_oneway(gIHI.ICV.values, gPartIHI.ICV.values, gNoIHI.ICV.values)))", 
     "language": "python", 
     "outputs": [
      {
       "output_type": "stream", 
       "stream": "stdout", 
       "text": "\nICV-BV\n(0.90807335286710344, 0.0)\n\nIHI score - ICV\n(-0.0056953629556481559, 0.8098182345076006)\n\nT-test ICV (Binary IHI)\n(0.36997909396775591, 0.7114419340864544)\nMean IHI 0.765508688279,   mean non IHI 0.763918684932\n\nANOVA ICV (C0)\n(1.888973048250193, 0.15152921080462009)"
      }
     ], 
     "prompt_number": 38
    }, 
    {
     "cell_type": "code", 
     "collapsed": true, 
     "input": "#BV\nprint(\"\\nIHI score - BV\")\nprint(str(sp.pearsonr(sel_p.SCi_L.values, sel_p.BV.values)))\n\nprint(\"\\nT-test ICV (Binary IHI)\")\n\nprint(str(sp.ttest_ind(IHI.BV.values, nIHI.BV.values)))\nprint(\"Mean IHI \"+ str(np.mean(IHI.BV)) +\",   mean non IHI \"+ str(np.mean(nIHI.BV))) \n\n\nprint(\"\\nANOVA ICV (C0)\")\nprint(str(sp.f_oneway(gIHI.BV.values, gPartIHI.BV.values, gNoIHI.BV.values)))", 
     "language": "python", 
     "outputs": [
      {
       "output_type": "stream", 
       "stream": "stdout", 
       "text": "\nIHI score - BV\n(-0.00050998218388702548, 0.9828074055756244)\n\nT-test ICV (Binary IHI)\n(0.38903890672611779, 0.69729374228045271)\nMean IHI 1121480.5586,   mean non IHI 1118754.80173\n\nANOVA ICV (C0)\n(2.1270863281127688, 0.1194860541051691)"
      }
     ], 
     "prompt_number": 39
    }, 
    {
     "cell_type": "code", 
     "collapsed": true, 
     "input": "### Regressions\nresp = sel_p[\"IHI_L\"]\n\ndm_ihi = pd.get_dummies(sel_p[\"IHI_L\"], prefix='IHI')\ndm_gender = pd.get_dummies(sel_p['Gender'], prefix='gender')\ndm_hand = pd.get_dummies(sel_p['Handedness'], prefix='handedness')\n\n#expl = pd.concat([dm_gender['gender_Female'], dm_hand[['handedness_Left','handedness_Right']]], axis=1)\nexpl = pd.concat([dm_gender['gender_Female'], dm_hand], axis=1)\n#print expl", 
     "language": "python", 
     "outputs": [
      {
       "output_type": "stream", 
       "stream": "stdout", 
       "text": "      gender_Female  handedness_Both-handed  handedness_Left  handedness_Right\n0                 1                       0                0                 1\n1                 0                       0                0                 1\n2                 0                       0                0                 1\n3                 0                       0                1                 0\n4                 1                       0                0                 1\n5                 0                       0                0                 1\n6                 1                       0                0                 1\n7                 0                       0                0                 1\n8                 1                       0                0                 1\n9                 0                       0                0                 1\n10                1                       0                0                 1\n11                1                       0                1                 0\n12                1                       0                0                 1\n13                1                       0                0                 1\n14                1                       0                0                 1\n15                0                       0                0                 1\n16                0                       0                0                 1\n17                1                       0                0                 1\n19                0                       0                0                 1\n20                1                       0                0                 1\n22                0                       0                0                 1\n23                1                       0                0                 1\n24                1                       0                0                 1\n25                1                       0                0                 1\n26                0                       0                0                 1\n27                0                       0                0                 1\n28                1                       0                0                 1\n30                1                       0                0                 1\n31                1                       0                0                 1\n33                1                       0                0                 1\n...             ...                     ...              ...               ...\n1971              0                       0                0                 1\n1972              1                       0                0                 1\n1973              1                       0                0                 1\n1975              0                       0                0                 1\n1977              0                       0                0                 1\n1978              0                       0                0                 1\n1979              1                       0                0                 1\n1980              0                       0                0                 1\n1981              1                       0                0                 1\n1982              1                       0                0                 1\n1983              1                       0                0                 1\n1984              1                       0                0                 1\n1985              0                       0                0                 1\n1986              0                       0                0                 1\n1987              1                       0                0                 1\n1989              1                       0                0                 1\n1990              1                       0                0                 1\n1992              0                       0                0                 1\n1993              1                       0                0                 1\n1996              0                       0                0                 1\n1997              0                       0                0                 1\n1998              0                       0                0                 1\n2000              1                       0                0                 1\n2001              1                       0                0                 1\n2002              0                       0                0                 1\n2003              1                       0                0                 1\n2004              1                       0                0                 1\n2005              0                       0                0                 1\n2006              1                       0                0                 1\n2007              0                       0                0                 1\n\n[1788 rows x 4 columns]"
      }
     ], 
     "prompt_number": 40
    }, 
    {
     "cell_type": "code", 
     "collapsed": true, 
     "input": "#Logit\nlr = sm.Logit(dm_ihi['IHI_1'], expl).fit()\nprint lr.summary()", 
     "language": "python", 
     "outputs": [
      {
       "output_type": "stream", 
       "stream": "stdout", 
       "text": "Optimization terminated successfully.\n         Current function value: 0.531006\n         Iterations 6\n                           Logit Regression Results                           \n==============================================================================\nDep. Variable:                  IHI_1   No. Observations:                 1788\nModel:                          Logit   Df Residuals:                     1784\nMethod:                           MLE   Df Model:                            3\nDate:                Mon, 02 Mar 2015   Pseudo R-squ.:                0.002362\nTime:                        16:07:54   Log-Likelihood:                -949.44\nconverged:                       True   LL-Null:                       -951.69\n                                        LLR p-value:                    0.2126\n==========================================================================================\n                             coef    std err          z      P>|z|      [95.0% Conf. Int.]\n------------------------------------------------------------------------------------------\ngender_Female             -0.1281      0.114     -1.125      0.261        -0.351     0.095\nhandedness_Both-handed    -1.6665      0.770     -2.166      0.030        -3.175    -0.158\nhandedness_Left           -0.9274      0.166     -5.576      0.000        -1.253    -0.601\nhandedness_Right          -1.2067      0.084    -14.367      0.000        -1.371    -1.042\n=========================================================================================="
      }
     ], 
     "prompt_number": 41
    }, 
    {
     "cell_type": "code", 
     "collapsed": true, 
     "input": "#Linear\nlr = sm.OLS(sel_p.SCi_L, expl).fit()\nprint lr.summary()", 
     "language": "python", 
     "outputs": [
      {
       "output_type": "stream", 
       "stream": "stdout", 
       "text": "                            OLS Regression Results                            \n==============================================================================\nDep. Variable:                  SCi_L   R-squared:                       0.696\nModel:                            OLS   Adj. R-squared:                  0.696\nMethod:                 Least Squares   F-statistic:                     1022.\nDate:                Mon, 02 Mar 2015   Prob (F-statistic):               0.00\nTime:                        16:07:54   Log-Likelihood:                -3490.5\nNo. Observations:                1788   AIC:                             6989.\nDf Residuals:                    1784   BIC:                             7011.\nDf Model:                           4                                         \n==========================================================================================\n                             coef    std err          t      P>|t|      [95.0% Conf. Int.]\n------------------------------------------------------------------------------------------\ngender_Female             -0.0773      0.081     -0.955      0.340        -0.236     0.081\nhandedness_Both-handed     2.4469      0.474      5.163      0.000         1.517     3.376\nhandedness_Left            2.6717      0.126     21.198      0.000         2.424     2.919\nhandedness_Right           2.6142      0.060     43.229      0.000         2.496     2.733\n==============================================================================\nOmnibus:                      211.941   Durbin-Watson:                   2.002\nProb(Omnibus):                  0.000   Jarque-Bera (JB):              291.542\nSkew:                           0.929   Prob(JB):                     4.93e-64\nKurtosis:                       3.677   Cond. No.                         12.9\n=============================================================================="
      }
     ], 
     "prompt_number": 42
    }
   ]
  }
 ]
}